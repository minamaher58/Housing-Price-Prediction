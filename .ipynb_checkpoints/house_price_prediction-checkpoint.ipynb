{
 "cells": [
  {
   "cell_type": "markdown",
   "id": "815308fa",
   "metadata": {},
   "source": [
    "## Import Libraries"
   ]
  },
  {
   "cell_type": "code",
   "execution_count": 1,
   "id": "cabd1d66-0e31-42bf-b9be-97d36fb1837b",
   "metadata": {},
   "outputs": [],
   "source": [
    "from sklearn.metrics import mean_absolute_error\n",
    "from sklearn.metrics import mean_squared_error\n",
    "from sklearn.metrics import median_absolute_error\n",
    "from sklearn.metrics import mean_squared_log_error\n",
    "from sklearn.metrics import r2_score"
   ]
  },
  {
   "cell_type": "code",
   "execution_count": 2,
   "id": "e47e800d",
   "metadata": {},
   "outputs": [
    {
     "ename": "ModuleNotFoundError",
     "evalue": "No module named 'xgboost'",
     "output_type": "error",
     "traceback": [
      "\u001b[1;31m---------------------------------------------------------------------------\u001b[0m",
      "\u001b[1;31mModuleNotFoundError\u001b[0m                       Traceback (most recent call last)",
      "Cell \u001b[1;32mIn[2], line 9\u001b[0m\n\u001b[0;32m      7\u001b[0m \u001b[38;5;28;01mimport\u001b[39;00m \u001b[38;5;21;01mmissingno\u001b[39;00m \u001b[38;5;28;01mas\u001b[39;00m \u001b[38;5;21;01mmsno\u001b[39;00m\n\u001b[0;32m      8\u001b[0m \u001b[38;5;28;01mimport\u001b[39;00m \u001b[38;5;21;01mplotly\u001b[39;00m\u001b[38;5;21;01m.\u001b[39;00m\u001b[38;5;21;01mexpress\u001b[39;00m \u001b[38;5;28;01mas\u001b[39;00m \u001b[38;5;21;01mpx\u001b[39;00m\n\u001b[1;32m----> 9\u001b[0m \u001b[38;5;28;01mfrom\u001b[39;00m \u001b[38;5;21;01mxgboost\u001b[39;00m \u001b[38;5;28;01mimport\u001b[39;00m XGBRegressor\n\u001b[0;32m     10\u001b[0m \u001b[38;5;28;01mfrom\u001b[39;00m \u001b[38;5;21;01mlightgbm\u001b[39;00m \u001b[38;5;28;01mimport\u001b[39;00m LGBMRegressor\n\u001b[0;32m     11\u001b[0m \u001b[38;5;28;01mfrom\u001b[39;00m \u001b[38;5;21;01mcatboost\u001b[39;00m \u001b[38;5;28;01mimport\u001b[39;00m CatBoostRegressor\n",
      "\u001b[1;31mModuleNotFoundError\u001b[0m: No module named 'xgboost'"
     ]
    }
   ],
   "source": [
    "import pandas as pd\n",
    "import numpy as np\n",
    "from sklearn.model_selection import train_test_split\n",
    "from sklearn.model_selection import cross_val_score\n",
    "import matplotlib.pyplot as plt\n",
    "import seaborn as sns\n",
    "import missingno as msno\n",
    "import plotly.express as px\n",
    "from xgboost import XGBRegressor\n",
    "from lightgbm import LGBMRegressor\n",
    "from catboost import CatBoostRegressor\n",
    "from sklearn.preprocessing import StandardScaler\n",
    "import xgboost as xgb\n",
    "import lightgbm as lgbm\n",
    "import optuna\n",
    "optuna.logging.set_verbosity(optuna.logging.WARNING)"
   ]
  },
  {
   "cell_type": "markdown",
   "id": "b6e2adf2",
   "metadata": {},
   "source": [
    "## Reading the data"
   ]
  },
  {
   "cell_type": "code",
   "execution_count": null,
   "id": "3a856df3",
   "metadata": {
    "scrolled": true
   },
   "outputs": [],
   "source": [
    "housing_data = pd.read_csv(\"housing_price_dataset.csv\")\n",
    "housing_data.head()"
   ]
  },
  {
   "cell_type": "code",
   "execution_count": null,
   "id": "de53e4f3",
   "metadata": {},
   "outputs": [],
   "source": [
    "display(housing_data.head())"
   ]
  },
  {
   "cell_type": "markdown",
   "id": "5e941764",
   "metadata": {},
   "source": [
    "## EDA"
   ]
  },
  {
   "cell_type": "code",
   "execution_count": null,
   "id": "7ccebbf9",
   "metadata": {},
   "outputs": [],
   "source": [
    "display(housing_data.isnull().sum())"
   ]
  },
  {
   "cell_type": "code",
   "execution_count": null,
   "id": "fa00e5e3",
   "metadata": {},
   "outputs": [],
   "source": [
    "plt.figure(figsize = (10, 2))\n",
    "\n",
    "plt.subplot(1, 3, 1)\n",
    "plt.title(\"housing data\")\n",
    "sns.heatmap(housing_data.isnull())\n",
    "\n",
    "plt.show()"
   ]
  },
  {
   "cell_type": "code",
   "execution_count": null,
   "id": "abea7d2a",
   "metadata": {},
   "outputs": [],
   "source": [
    "msno.matrix(df=housing_data, figsize=(3,2), color=(0,.3,.3))"
   ]
  },
  {
   "cell_type": "code",
   "execution_count": null,
   "id": "f4bb037f",
   "metadata": {},
   "outputs": [],
   "source": [
    "display(housing_data.info())"
   ]
  },
  {
   "cell_type": "code",
   "execution_count": null,
   "id": "4332f147",
   "metadata": {},
   "outputs": [],
   "source": [
    "plt.subplot(1, 3, 1)\n",
    "sns.countplot(x = housing_data[\"Neighborhood\"])\n",
    "plt.xticks(rotation = 90);"
   ]
  },
  {
   "cell_type": "code",
   "execution_count": null,
   "id": "17142150",
   "metadata": {},
   "outputs": [],
   "source": [
    "housing_data[\"Neighborhood\"] = housing_data[\"Neighborhood\"].replace({'Rural':1,'Urban':2,'Suburb':3})"
   ]
  },
  {
   "cell_type": "code",
   "execution_count": null,
   "id": "46818271",
   "metadata": {
    "scrolled": true
   },
   "outputs": [],
   "source": [
    "display(housing_data)"
   ]
  },
  {
   "cell_type": "code",
   "execution_count": null,
   "id": "240600f0",
   "metadata": {},
   "outputs": [],
   "source": [
    "help(housing_data._append)"
   ]
  },
  {
   "cell_type": "code",
   "execution_count": null,
   "id": "998eebb0",
   "metadata": {
    "scrolled": true
   },
   "outputs": [],
   "source": [
    "train_feature = housing_data.columns.drop('Price').tolist()\n",
    "train_feature"
   ]
  },
  {
   "cell_type": "code",
   "execution_count": null,
   "id": "5c8d2cf6",
   "metadata": {},
   "outputs": [],
   "source": [
    "housing_data[train_feature].describe().T\\\n",
    "        .style.bar(subset=['mean'], color=px.colors.qualitative.G10[0])\\\n",
    "        .background_gradient(subset=['std'], cmap='BuPu')\\\n",
    "        .background_gradient(subset=['50%'], cmap='Reds')"
   ]
  },
  {
   "cell_type": "code",
   "execution_count": null,
   "id": "5353c3ec",
   "metadata": {},
   "outputs": [],
   "source": [
    "for feat in train_feature:\n",
    "    plt.figure(figsize=(15,3))\n",
    "    ax1 = plt.subplot(1,2,1)\n",
    "    housing_data[feat].plot(kind='hist', bins=50, color='blue')\n",
    "    plt.title(feat)\n",
    "    plt.show()"
   ]
  },
  {
   "cell_type": "code",
   "execution_count": null,
   "id": "d53e9aad",
   "metadata": {},
   "outputs": [],
   "source": [
    "# Calculate skewness and kurtosis for each column\n",
    "skewness = housing_data.skew()\n",
    "kurtosis = housing_data.kurt()\n",
    "\n",
    "# Printing the results\n",
    "for column in housing_data.columns[:-1]:\n",
    "    print(f\"Column: {column}\")\n",
    "    print(f\"Skewness: {skewness[column]}\")\n",
    "    print(f\"Kurtosis: {kurtosis[column]}\\n\")"
   ]
  },
  {
   "cell_type": "code",
   "execution_count": null,
   "id": "958b8479",
   "metadata": {},
   "outputs": [],
   "source": [
    "#Split the dataset into train and test\n",
    "train, test = train_test_split(housing_data, test_size=0.2, random_state=42)\n",
    "train = train.reset_index(drop=True)\n",
    "test = test.reset_index(drop=True)\n",
    "display(train.describe())\n",
    "display(test.describe())"
   ]
  },
  {
   "cell_type": "markdown",
   "id": "d974fe4e",
   "metadata": {},
   "source": [
    "## Feature Selection"
   ]
  },
  {
   "cell_type": "code",
   "execution_count": null,
   "id": "a55ef70e",
   "metadata": {},
   "outputs": [],
   "source": [
    "#Feature_Importance_Analysis with XGBRegressor , Prices are highly correlated to SquareFeet.\n",
    "X_data_feature= train.drop(columns=['Price'],axis=1)\n",
    "y_data_feature= train['Price']\n",
    "\n",
    "model = [XGBRegressor()]\n",
    "\n",
    "model = [model[i].fit(X_data_feature,y_data_feature) for i in range(len(model))]\n",
    "\n",
    "num_chr = [12, 12, 10]\n",
    "\n",
    "for i in range(len(model)):\n",
    "    print(str(model[i])[:num_chr[i]] + ': \\n',\n",
    "          model[i].feature_importances_)\n",
    "    feat_importances = pd.Series(model[i].feature_importances_,\n",
    "                                 index=X_data_feature.columns)\n",
    "    feat_importances.nlargest(10).plot(kind='barh', color='royalblue')\n",
    "    plt.xlim(0, 1.0)\n",
    "    plt.show()"
   ]
  },
  {
   "cell_type": "code",
   "execution_count": null,
   "id": "f1004fd9-3675-4827-b13c-f0447bb7c751",
   "metadata": {},
   "outputs": [],
   "source": [
    "#Feature_Importance_Analysis with LGBMRegressor , Prices also are highly correlated to SquareFeet.\n",
    "model = [LGBMRegressor()]\n",
    "\n",
    "model = [model[i].fit(X_data_feature,y_data_feature) for i in range(len(model))]\n",
    "\n",
    "num_chr = [12, 12, 10]\n",
    "\n",
    "for i in range(len(model)):\n",
    "    print(str(model[i])[:num_chr[i]] + ': \\n',\n",
    "          model[i].feature_importances_)\n",
    "    feat_importances = pd.Series(model[i].feature_importances_,\n",
    "                                 index=X_data_feature.columns)\n",
    "    feat_importances.nlargest(10).plot(kind='barh', color='royalblue')\n",
    "    plt.xlim(0, 1500)\n",
    "    plt.show()"
   ]
  },
  {
   "cell_type": "code",
   "execution_count": null,
   "id": "b619ccee-ccf6-464f-a410-010eb39d04c9",
   "metadata": {},
   "outputs": [],
   "source": [
    "# Feature_Importance_Analysis with CatBoostRegressor , Prices also are highly correlated to SquareFeet.\n",
    "model = [CatBoostRegressor(logging_level='Silent')]\n",
    "\n",
    "model = [model[i].fit(X_data_feature,y_data_feature) for i in range(len(model))]\n",
    "\n",
    "num_chr = [12, 12, 10]\n",
    "\n",
    "for i in range(len(model)):\n",
    "    print(str(model[i])[:num_chr[i]] + ': \\n',\n",
    "          model[i].feature_importances_)\n",
    "    feat_importances = pd.Series(model[i].feature_importances_,\n",
    "                                 index=X_data_feature.columns)\n",
    "    feat_importances.nlargest(10).plot(kind='barh', color='royalblue')\n",
    "    plt.xlim(0, 80)\n",
    "    plt.show()"
   ]
  },
  {
   "cell_type": "code",
   "execution_count": null,
   "id": "d7d2d707-bff6-4ccb-bdbc-3ee052470980",
   "metadata": {},
   "outputs": [],
   "source": [
    "# using Heatmap to find relations between features.\n",
    "corr = train.corr(method='pearson')\n",
    "fig, ax = plt.subplots(figsize=(15, 15))\n",
    "sns.heatmap(corr, cmap='RdBu', annot=True, fmt=\".2f\")\n",
    "plt.xticks(range(len(corr.columns)), corr.columns);\n",
    "plt.yticks(range(len(corr.columns)), corr.columns)\n",
    "plt.show()"
   ]
  },
  {
   "cell_type": "code",
   "execution_count": null,
   "id": "14d5d9ff-589f-4bc0-a890-417fcf707fe3",
   "metadata": {},
   "outputs": [],
   "source": [
    "# So We need to remove Neighborhood and YearBuilt feature .\n",
    "X = train.drop(columns=['Price','Neighborhood','YearBuilt'],axis=1)\n",
    "y = train['Price']"
   ]
  },
  {
   "cell_type": "code",
   "execution_count": null,
   "id": "21fc76db-7e1c-4510-ac5c-6bd453052db7",
   "metadata": {},
   "outputs": [],
   "source": [
    "X_train = X\n",
    "y_train = y\n",
    "\n",
    "StandardScaler = StandardScaler()\n",
    "X_train = StandardScaler.fit_transform(X_train)\n",
    "X_train = pd.DataFrame(X_train)\n",
    "X_train"
   ]
  },
  {
   "cell_type": "markdown",
   "id": "0c47b860-549b-4b20-8ec7-745855aa7a7f",
   "metadata": {},
   "source": [
    "## Modeling"
   ]
  },
  {
   "cell_type": "code",
   "execution_count": null,
   "id": "50336149-8151-4361-8cd3-20126b4fb143",
   "metadata": {},
   "outputs": [],
   "source": [
    "X_train, X_eval, y_train, y_eval = train_test_split(X_train, y_train, test_size=0.2,random_state=2019)\n",
    "print(\"Shape of X_train: \",X_train.shape)\n",
    "print(\"Shape of X_eval: \", X_eval.shape)\n",
    "print(\"Shape of y_train: \",y_train.shape)\n",
    "print(\"Shape of y_eval\",y_eval.shape)"
   ]
  },
  {
   "cell_type": "code",
   "execution_count": null,
   "id": "b06da4d7-e4e3-4e41-acb6-68d5bc1c341a",
   "metadata": {},
   "outputs": [],
   "source": [
    "# the distribution of the Price\n",
    "sns.set_style(\"white\")\n",
    "sns.set_color_codes(palette='deep')\n",
    "f, ax = plt.subplots(figsize=(5, 4))\n",
    "sns.histplot(y_train)\n",
    "ax.xaxis.grid(False)\n",
    "\n",
    "sns.despine(trim=True, left=True)\n",
    "plt.show()\n",
    "\n",
    "print(\"Skewness: %f\" % y_train.skew())\n",
    "print(\"Kurtosis: %f\" % y_train.kurt())"
   ]
  },
  {
   "cell_type": "code",
   "execution_count": null,
   "id": "e5604bd3-3405-4241-bac8-bfb0fbf825a6",
   "metadata": {},
   "outputs": [],
   "source": [
    "plt.figure(figsize=(2,5))\n",
    "plt.boxplot(y_train,showmeans=True)\n",
    "plt.title('Price')\n",
    "plt.show()"
   ]
  },
  {
   "cell_type": "code",
   "execution_count": null,
   "id": "2a91bc64-b77a-411c-96f9-5a11808a47e8",
   "metadata": {},
   "outputs": [],
   "source": [
    "def objective(trial):\n",
    "   params = {\n",
    "       'n_estimators' :     trial.suggest_int('n_estimators', 300, 4000),\n",
    "       'learning_rate':     trial.suggest_loguniform(\"learning_rate\", 0.01, 0.1),\n",
    "       'max_depth':         trial.suggest_int(\"max_depth\", 2, 6), \n",
    "       'min_child_weight':  trial.suggest_loguniform(\"min_child_weight\", 0.001, 10),\n",
    "       'subsample':         trial.suggest_discrete_uniform(\"subsample\", 0.1, 1.0, 0.025),\n",
    "       'colsample_bytree':  trial.suggest_discrete_uniform(\"colsample_bytree\",  0.1, 1.0, 0.025),\n",
    "       'colsample_bylevel': trial.suggest_discrete_uniform(\"colsample_bylevel\",  0.1, 1.0, 0.025),\n",
    "       'gamma':             trial.suggest_loguniform(\"gamma\", 1e-10, 10), \n",
    "       'reg_lambda':        trial.suggest_loguniform(\"reg_lambda\", 1e-10, 100),\n",
    "       'reg_alpha':         trial.suggest_loguniform(\"reg_alpha\", 1e-10, 100),\n",
    "   } \n",
    "\n",
    "   model = xgb.XGBRegressor(**params, objective = 'reg:absoluteerror')\n",
    "   model.fit(X_train, y_train)\n",
    "   y_pred = model.predict(X_train)\n",
    "   score = median_absolute_error(y_train, y_pred)\n",
    "    \n",
    "   return score"
   ]
  },
  {
   "cell_type": "code",
   "execution_count": null,
   "id": "15bb270b-5127-46ed-8bfa-251380fa7561",
   "metadata": {},
   "outputs": [],
   "source": [
    "# study = optuna.create_study(sampler=optuna.samplers.RandomSampler(seed=123))\n",
    "# study.optimize(objective, n_trials=50) \n",
    "# study.best_params"
   ]
  },
  {
   "cell_type": "code",
   "execution_count": null,
   "id": "1bd499c0-7556-4e62-89b3-ea6f596cebab",
   "metadata": {},
   "outputs": [],
   "source": [
    "def objective(trial):\n",
    "   params = {\n",
    "       'n_estimators' :     trial.suggest_int('n_estimators', 300, 4000),\n",
    "       'learning_rate':     trial.suggest_loguniform(\"learning_rate\", 0.01, 0.1),\n",
    "       'max_depth':         trial.suggest_int(\"max_depth\", 2, 6), \n",
    "       'min_child_weight':  trial.suggest_loguniform(\"min_child_weight\", 0.001, 10),\n",
    "       'subsample':         trial.suggest_discrete_uniform(\"subsample\", 0.1, 1.0, 0.025),\n",
    "       'colsample_bytree':  trial.suggest_discrete_uniform(\"colsample_bytree\",  0.1, 1.0, 0.025),\n",
    "       'reg_lambda':        trial.suggest_loguniform(\"reg_lambda\", 1e-10, 100),\n",
    "       'reg_alpha':         trial.suggest_loguniform(\"reg_alpha\", 1e-10, 100),\n",
    "   } \n",
    "\n",
    "   model = lgbm.LGBMRegressor(**params,objective='regression_l1')\n",
    "   model.fit(X_train,y_train)\n",
    "   y_pred = model.predict(X_train)\n",
    "   score = median_absolute_error(y_train, y_pred)\n",
    "    \n",
    "   return score"
   ]
  },
  {
   "cell_type": "code",
   "execution_count": null,
   "id": "a6f376e7-cf67-47d3-b08b-07715231f414",
   "metadata": {},
   "outputs": [],
   "source": [
    "# study = optuna.create_study(sampler=optuna.samplers.RandomSampler(seed=123))\n",
    "# study.optimize(objective, n_trials=50) \n",
    "# study.best_params"
   ]
  },
  {
   "cell_type": "code",
   "execution_count": null,
   "id": "61d92c5b-c1e5-4ca6-9231-75b712e01122",
   "metadata": {},
   "outputs": [],
   "source": [
    "params_XGB_best ={'n_estimators': 2565,\n",
    " 'learning_rate': 0.09732287808197748,\n",
    " 'max_depth': 6,\n",
    " 'min_child_weight': 0.007737991528812258,\n",
    " 'subsample': 0.1,\n",
    " 'colsample_bytree': 1.0,\n",
    " 'colsample_bylevel': 0.9,\n",
    " 'gamma': 1.3007598689577686,\n",
    " 'reg_lambda': 9.683728618282095e-06,\n",
    " 'reg_alpha': 0.08617584406570492}"
   ]
  },
  {
   "cell_type": "code",
   "execution_count": null,
   "id": "d30e34e3-abe5-4c72-a8f4-be301dc1ae24",
   "metadata": {},
   "outputs": [],
   "source": [
    "params_LGBM_best ={'n_estimators': 2309,\n",
    " 'learning_rate': 0.04942932762026841,\n",
    " 'max_depth': 6,\n",
    " 'min_child_weight': 0.21030657642741743,\n",
    " 'subsample': 0.30000000000000004,\n",
    " 'colsample_bytree': 0.775,\n",
    " 'reg_lambda': 0.21539132638034386,\n",
    " 'reg_alpha': 2.5398950960373498e-08}"
   ]
  },
  {
   "cell_type": "code",
   "execution_count": null,
   "id": "f9b2f0f8-6ece-49a6-8774-b7e5420da2b3",
   "metadata": {},
   "outputs": [],
   "source": [
    "XGBRegressor_model = xgb.XGBRegressor(**params_XGB_best,objective='reg:absoluteerror').fit(X_train,y_train)\n",
    "LGBM_model = lgbm.LGBMRegressor(**params_LGBM_best,objective='regression_l1').fit(X_train,y_train)"
   ]
  },
  {
   "cell_type": "code",
   "execution_count": null,
   "id": "b1506b79-4214-4043-9742-c418de1e6207",
   "metadata": {},
   "outputs": [],
   "source": [
    "#Evaluate XGB and LGBM By CV、R2_score、MedAE. \n",
    "cv_XGBoost = cross_val_score(estimator = XGBRegressor_model, X = X_train, y = y_train, cv = 5)\n",
    "y_pred_XGBoost_eval = XGBRegressor_model.predict(X_eval)\n",
    "r2_score_XGBoost_eval = r2_score(y_eval, y_pred_XGBoost_eval)\n",
    "MedAE_XGBoost = (np.sqrt(median_absolute_error(y_eval, y_pred_XGBoost_eval)))\n",
    "print(\"CV: \", cv_XGBoost.mean())\n",
    "print('R2_score (eval): ', r2_score_XGBoost_eval)\n",
    "print(\"MedAE: \", MedAE_XGBoost)\n",
    "\n",
    "cv_LGBM = cross_val_score(estimator = LGBM_model, X = X_train, y = y_train, cv = 5)\n",
    "y_pred_LGBM_eval = LGBM_model.predict(X_eval)\n",
    "r2_score_LGBM_eval = r2_score(y_eval, y_pred_LGBM_eval)\n",
    "MedAE_LGBM = (np.sqrt(median_absolute_error(y_eval, y_pred_LGBM_eval)))\n",
    "print(\"CV: \", cv_LGBM.mean())\n",
    "print('R2_score (eval): ', r2_score_LGBM_eval)\n",
    "print(\"MedAE: \", MedAE_LGBM)"
   ]
  },
  {
   "cell_type": "code",
   "execution_count": null,
   "id": "f5919e14-a621-4bbc-88e4-8c36adcce450",
   "metadata": {},
   "outputs": [],
   "source": [
    "#Convert to a dataframe to observe the evaluation results of the model.\n",
    "models = [('XGB', MedAE_XGBoost,  r2_score_XGBoost_eval, cv_XGBoost.mean()),\n",
    "          ('LGBM', MedAE_LGBM, r2_score_LGBM_eval, cv_LGBM.mean())\n",
    "         ]                                          \n",
    "\n",
    "\n",
    "predict = pd.DataFrame(data = models, columns=['Model', 'MedAE', 'R2_Score(eval)', 'Cross-Validation'])\n",
    "predict"
   ]
  },
  {
   "cell_type": "code",
   "execution_count": null,
   "id": "f43aea7c-1dbd-41fe-ad54-70649be9e02a",
   "metadata": {},
   "outputs": [],
   "source": [
    "# Visualization of MODEL's MedAE.\n",
    "f, axe = plt.subplots(1,1, figsize=(8,1))\n",
    "\n",
    "predict.sort_values(by=['MedAE'], ascending=False, inplace=True)\n",
    "\n",
    "sns.barplot(x='MedAE', y='Model',  data = predict, ax = axe)\n",
    "axe.set_xlabel('MedAE(Val)', size=15)\n",
    "axe.set_ylabel('Model', size=15)\n",
    "axe.set_xlim(0,200.0)\n",
    "plt.show()"
   ]
  },
  {
   "cell_type": "code",
   "execution_count": null,
   "id": "60bdf21b-4008-48bb-b601-1a59a8a0f3f5",
   "metadata": {},
   "outputs": [],
   "source": [
    "# Visualization of MODEL's R2_Score.\n",
    "f, axe = plt.subplots(1,1, figsize=(8,1))\n",
    "\n",
    "predict.sort_values(by=['R2_Score(eval)'], ascending=False, inplace=True)\n",
    "\n",
    "sns.barplot(x='R2_Score(eval)', y='Model',  data = predict, ax = axe)\n",
    "axe.set_xlabel('R2_Score(eval)', size=15)\n",
    "axe.set_ylabel('Model', size=15)\n",
    "axe.set_xlim(0,1.0)\n",
    "plt.show()"
   ]
  },
  {
   "cell_type": "code",
   "execution_count": null,
   "id": "96e1643c-694f-4a11-bba7-9000221bcb27",
   "metadata": {},
   "outputs": [],
   "source": [
    "# Visualization of MODEL's Cross-Validation.\n",
    "f, axe = plt.subplots(1,1, figsize=(8,1))\n",
    "\n",
    "predict.sort_values(by=['Cross-Validation'], ascending=False, inplace=True)\n",
    "\n",
    "sns.barplot(x='Cross-Validation', y='Model',  data = predict, ax = axe)\n",
    "axe.set_xlabel('Cross-Validation', size=15)\n",
    "axe.set_ylabel('Model', size=15)\n",
    "axe.set_xlim(0,1.0)\n",
    "plt.show()"
   ]
  },
  {
   "cell_type": "markdown",
   "id": "09ac2089-7b1a-42d0-8c3e-538823353590",
   "metadata": {},
   "source": [
    "## Predict Test"
   ]
  },
  {
   "cell_type": "code",
   "execution_count": null,
   "id": "1d790b7f-5d5f-49a1-9c95-f99aa7b9dce2",
   "metadata": {},
   "outputs": [],
   "source": [
    "import_test0 = test.reset_index(drop=True)\n",
    "import_test = import_test0.drop(columns=['Price','Neighborhood','YearBuilt'],axis=1)\n",
    "import_test"
   ]
  },
  {
   "cell_type": "code",
   "execution_count": null,
   "id": "218ed524-ee80-4075-87c4-eb3fa45aeb9a",
   "metadata": {},
   "outputs": [],
   "source": [
    "import_train = X.reset_index(drop=True)\n",
    "import_train"
   ]
  },
  {
   "cell_type": "code",
   "execution_count": null,
   "id": "6cc38d4c-09fa-4b76-8bdd-c6bad610caf7",
   "metadata": {},
   "outputs": [],
   "source": [
    "Row_Number=10000\n",
    "X_test_target1_df=import_train._append(import_test,ignore_index=True)\n",
    "\n",
    "from sklearn.preprocessing import StandardScaler\n",
    "StandardScaler = StandardScaler() \n",
    "X_test_target1_df = StandardScaler.fit_transform(X_test_target1_df)\n",
    "test_pred_target0= pd.DataFrame(X_test_target1_df)\n",
    "test_pred_target0 = pd.DataFrame(test_pred_target0).tail(Row_Number)\n",
    "test_pred_target0"
   ]
  },
  {
   "cell_type": "code",
   "execution_count": null,
   "id": "fea261ce-e612-4239-b307-7816c74fa3ec",
   "metadata": {},
   "outputs": [],
   "source": [
    "test_pred_target0 = test_pred_target0.reset_index(drop=True)\n",
    "test_pred_target0"
   ]
  },
  {
   "cell_type": "code",
   "execution_count": null,
   "id": "3f9d90fc-6292-4786-8486-d89c0e995939",
   "metadata": {},
   "outputs": [],
   "source": [
    "predict_XGB = XGBRegressor_model.predict(test_pred_target0)\n",
    "predict_LGBM = LGBM_model.predict(test_pred_target0)\n",
    "  \n",
    "predict_XGB_df=pd.DataFrame(predict_XGB) \n",
    "predict_LGBM_df=pd.DataFrame(predict_LGBM)                                                                   \n",
    "\n",
    "predict_XGB_df=predict_XGB_df.set_axis(axis=1,labels=['XGB_pred'])\n",
    "predict_LGBM_df=predict_LGBM_df.set_axis(axis=1,labels=['LGBM_pred'])\n",
    "\n",
    "display(predict_XGB_df.head())\n",
    "display(predict_LGBM_df.head())  "
   ]
  },
  {
   "cell_type": "code",
   "execution_count": null,
   "id": "7fb6a976-4527-480a-bf5c-0b7039d2ce82",
   "metadata": {},
   "outputs": [],
   "source": [
    "test_pred=test.merge(predict_XGB_df,how='inner',left_index=True,right_index=True)\n",
    "test_pred=test_pred.merge(predict_LGBM_df,how='inner',left_index=True,right_index=True)\n",
    "test_pred"
   ]
  },
  {
   "cell_type": "code",
   "execution_count": null,
   "id": "eaba85a7-4871-4637-8004-a50fd48396ed",
   "metadata": {},
   "outputs": [],
   "source": [
    "r2_score_XGBoost_test = r2_score(test_pred['Price'], test_pred['XGB_pred'])\n",
    "MedAE_XGBoost_test = (np.sqrt(median_absolute_error(test_pred['Price'], test_pred['XGB_pred'])))\n",
    "print('R2_score (eval): ', r2_score_XGBoost_test)\n",
    "print(\"MedAE: \", MedAE_XGBoost_test)\n",
    "\n",
    "r2_score_LGBM_test = r2_score(test_pred['Price'], test_pred['LGBM_pred'])\n",
    "MedAE_LGBM_test = (np.sqrt(median_absolute_error(test_pred['Price'], test_pred['LGBM_pred'])))\n",
    "print('R2_score (eval): ', r2_score_LGBM_test)\n",
    "print(\"MedAE: \", MedAE_LGBM_test)"
   ]
  },
  {
   "cell_type": "code",
   "execution_count": null,
   "id": "bb01e4b3-eece-4d6e-9b41-1bdc9614488b",
   "metadata": {},
   "outputs": [],
   "source": [
    "models_Compare0 = [ ('XGB', MedAE_XGBoost ,MedAE_XGBoost_test,r2_score_XGBoost_eval,r2_score_XGBoost_test),\n",
    "                    ('LGBM', MedAE_LGBM ,MedAE_LGBM_test, r2_score_LGBM_eval,r2_score_LGBM_test)         \n",
    "                  ]                                         \n",
    "\n",
    "predict_Compare0 = pd.DataFrame(data = models_Compare0, columns=['Model', 'MedAE(eval)','MedAE(test)', 'R2_Score(eval)', 'R2_Score(test)'])\n",
    "predict_Compare0.sort_values(by=['R2_Score(test)'], ascending=False)"
   ]
  },
  {
   "cell_type": "code",
   "execution_count": null,
   "id": "36b9c44d-a718-4e0d-add8-8353f13a0d23",
   "metadata": {},
   "outputs": [],
   "source": [
    "# Visualization of MODEL's MedAE.\n",
    "f, axe = plt.subplots(1,1, figsize=(8,1))\n",
    "\n",
    "predict_Compare0.sort_values(by=['MedAE(test)'], ascending=False, inplace=True)\n",
    "\n",
    "sns.barplot(x='MedAE(test)', y='Model',  data = predict_Compare0, ax = axe)\n",
    "axe.set_xlabel('MedAE(test)', size=15)\n",
    "axe.set_ylabel('Model', size=15)\n",
    "axe.set_xlim(0,200.0)\n",
    "plt.show()"
   ]
  },
  {
   "cell_type": "code",
   "execution_count": null,
   "id": "8f88b8ef-ed3d-4b53-80f7-75b673a75df7",
   "metadata": {},
   "outputs": [],
   "source": [
    "# Visualization of MODEL's R2_Score.\n",
    "f, axe = plt.subplots(1,1, figsize=(8,1))\n",
    "\n",
    "predict_Compare0.sort_values(by=['R2_Score(test)'], ascending=False, inplace=True)\n",
    "\n",
    "sns.barplot(x='R2_Score(test)', y='Model',  data = predict_Compare0, ax = axe)\n",
    "axe.set_xlabel('R2_Score(test)', size=15)\n",
    "axe.set_ylabel('Model', size=15)\n",
    "axe.set_xlim(0,1.0)\n",
    "plt.show()"
   ]
  }
 ],
 "metadata": {
  "kernelspec": {
   "display_name": "housing_price_prediction",
   "language": "python",
   "name": "housing_price_prediction"
  },
  "language_info": {
   "codemirror_mode": {
    "name": "ipython",
    "version": 3
   },
   "file_extension": ".py",
   "mimetype": "text/x-python",
   "name": "python",
   "nbconvert_exporter": "python",
   "pygments_lexer": "ipython3",
   "version": "3.11.5"
  }
 },
 "nbformat": 4,
 "nbformat_minor": 5
}
