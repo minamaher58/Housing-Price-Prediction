{
 "cells": [
  {
   "cell_type": "markdown",
   "id": "815308fa",
   "metadata": {},
   "source": [
    "## Import Libraries"
   ]
  },
  {
   "cell_type": "code",
   "execution_count": 34,
   "id": "e47e800d",
   "metadata": {},
   "outputs": [],
   "source": [
    "import pandas as pd\n",
    "from sklearn.model_selection import train_test_split\n",
    "import matplotlib.pyplot as plt\n",
    "import seaborn as sns\n",
    "import missingno as msno\n",
    "import plotly.express as px"
   ]
  },
  {
   "cell_type": "markdown",
   "id": "b6e2adf2",
   "metadata": {},
   "source": [
    "## Reading the data"
   ]
  },
  {
   "cell_type": "code",
   "execution_count": 17,
   "id": "3a856df3",
   "metadata": {
    "scrolled": true
   },
   "outputs": [
    {
     "data": {
      "text/html": [
       "<div>\n",
       "<style scoped>\n",
       "    .dataframe tbody tr th:only-of-type {\n",
       "        vertical-align: middle;\n",
       "    }\n",
       "\n",
       "    .dataframe tbody tr th {\n",
       "        vertical-align: top;\n",
       "    }\n",
       "\n",
       "    .dataframe thead th {\n",
       "        text-align: right;\n",
       "    }\n",
       "</style>\n",
       "<table border=\"1\" class=\"dataframe\">\n",
       "  <thead>\n",
       "    <tr style=\"text-align: right;\">\n",
       "      <th></th>\n",
       "      <th>SquareFeet</th>\n",
       "      <th>Bedrooms</th>\n",
       "      <th>Bathrooms</th>\n",
       "      <th>Neighborhood</th>\n",
       "      <th>YearBuilt</th>\n",
       "      <th>Price</th>\n",
       "    </tr>\n",
       "  </thead>\n",
       "  <tbody>\n",
       "    <tr>\n",
       "      <th>0</th>\n",
       "      <td>2126</td>\n",
       "      <td>4</td>\n",
       "      <td>1</td>\n",
       "      <td>Rural</td>\n",
       "      <td>1969</td>\n",
       "      <td>215355.283618</td>\n",
       "    </tr>\n",
       "    <tr>\n",
       "      <th>1</th>\n",
       "      <td>2459</td>\n",
       "      <td>3</td>\n",
       "      <td>2</td>\n",
       "      <td>Rural</td>\n",
       "      <td>1980</td>\n",
       "      <td>195014.221626</td>\n",
       "    </tr>\n",
       "    <tr>\n",
       "      <th>2</th>\n",
       "      <td>1860</td>\n",
       "      <td>2</td>\n",
       "      <td>1</td>\n",
       "      <td>Suburb</td>\n",
       "      <td>1970</td>\n",
       "      <td>306891.012076</td>\n",
       "    </tr>\n",
       "    <tr>\n",
       "      <th>3</th>\n",
       "      <td>2294</td>\n",
       "      <td>2</td>\n",
       "      <td>1</td>\n",
       "      <td>Urban</td>\n",
       "      <td>1996</td>\n",
       "      <td>206786.787153</td>\n",
       "    </tr>\n",
       "    <tr>\n",
       "      <th>4</th>\n",
       "      <td>2130</td>\n",
       "      <td>5</td>\n",
       "      <td>2</td>\n",
       "      <td>Suburb</td>\n",
       "      <td>2001</td>\n",
       "      <td>272436.239065</td>\n",
       "    </tr>\n",
       "  </tbody>\n",
       "</table>\n",
       "</div>"
      ],
      "text/plain": [
       "   SquareFeet  Bedrooms  Bathrooms Neighborhood  YearBuilt          Price\n",
       "0        2126         4          1        Rural       1969  215355.283618\n",
       "1        2459         3          2        Rural       1980  195014.221626\n",
       "2        1860         2          1       Suburb       1970  306891.012076\n",
       "3        2294         2          1        Urban       1996  206786.787153\n",
       "4        2130         5          2       Suburb       2001  272436.239065"
      ]
     },
     "execution_count": 17,
     "metadata": {},
     "output_type": "execute_result"
    }
   ],
   "source": [
    "housing_data = pd.read_csv(\"housing_price_dataset.csv\")\n",
    "housing_data.head()"
   ]
  },
  {
   "cell_type": "code",
   "execution_count": 19,
   "id": "de53e4f3",
   "metadata": {},
   "outputs": [
    {
     "data": {
      "text/html": [
       "<div>\n",
       "<style scoped>\n",
       "    .dataframe tbody tr th:only-of-type {\n",
       "        vertical-align: middle;\n",
       "    }\n",
       "\n",
       "    .dataframe tbody tr th {\n",
       "        vertical-align: top;\n",
       "    }\n",
       "\n",
       "    .dataframe thead th {\n",
       "        text-align: right;\n",
       "    }\n",
       "</style>\n",
       "<table border=\"1\" class=\"dataframe\">\n",
       "  <thead>\n",
       "    <tr style=\"text-align: right;\">\n",
       "      <th></th>\n",
       "      <th>SquareFeet</th>\n",
       "      <th>Bedrooms</th>\n",
       "      <th>Bathrooms</th>\n",
       "      <th>Neighborhood</th>\n",
       "      <th>YearBuilt</th>\n",
       "      <th>Price</th>\n",
       "    </tr>\n",
       "  </thead>\n",
       "  <tbody>\n",
       "    <tr>\n",
       "      <th>0</th>\n",
       "      <td>2126</td>\n",
       "      <td>4</td>\n",
       "      <td>1</td>\n",
       "      <td>Rural</td>\n",
       "      <td>1969</td>\n",
       "      <td>215355.283618</td>\n",
       "    </tr>\n",
       "    <tr>\n",
       "      <th>1</th>\n",
       "      <td>2459</td>\n",
       "      <td>3</td>\n",
       "      <td>2</td>\n",
       "      <td>Rural</td>\n",
       "      <td>1980</td>\n",
       "      <td>195014.221626</td>\n",
       "    </tr>\n",
       "    <tr>\n",
       "      <th>2</th>\n",
       "      <td>1860</td>\n",
       "      <td>2</td>\n",
       "      <td>1</td>\n",
       "      <td>Suburb</td>\n",
       "      <td>1970</td>\n",
       "      <td>306891.012076</td>\n",
       "    </tr>\n",
       "    <tr>\n",
       "      <th>3</th>\n",
       "      <td>2294</td>\n",
       "      <td>2</td>\n",
       "      <td>1</td>\n",
       "      <td>Urban</td>\n",
       "      <td>1996</td>\n",
       "      <td>206786.787153</td>\n",
       "    </tr>\n",
       "    <tr>\n",
       "      <th>4</th>\n",
       "      <td>2130</td>\n",
       "      <td>5</td>\n",
       "      <td>2</td>\n",
       "      <td>Suburb</td>\n",
       "      <td>2001</td>\n",
       "      <td>272436.239065</td>\n",
       "    </tr>\n",
       "  </tbody>\n",
       "</table>\n",
       "</div>"
      ],
      "text/plain": [
       "   SquareFeet  Bedrooms  Bathrooms Neighborhood  YearBuilt          Price\n",
       "0        2126         4          1        Rural       1969  215355.283618\n",
       "1        2459         3          2        Rural       1980  195014.221626\n",
       "2        1860         2          1       Suburb       1970  306891.012076\n",
       "3        2294         2          1        Urban       1996  206786.787153\n",
       "4        2130         5          2       Suburb       2001  272436.239065"
      ]
     },
     "metadata": {},
     "output_type": "display_data"
    }
   ],
   "source": [
    "display(housing_data.head())"
   ]
  },
  {
   "cell_type": "markdown",
   "id": "5e941764",
   "metadata": {},
   "source": [
    "## EDA"
   ]
  },
  {
   "cell_type": "code",
   "execution_count": 20,
   "id": "7ccebbf9",
   "metadata": {},
   "outputs": [
    {
     "data": {
      "text/plain": [
       "SquareFeet      0\n",
       "Bedrooms        0\n",
       "Bathrooms       0\n",
       "Neighborhood    0\n",
       "YearBuilt       0\n",
       "Price           0\n",
       "dtype: int64"
      ]
     },
     "metadata": {},
     "output_type": "display_data"
    }
   ],
   "source": [
    "display(housing_data.isnull().sum())"
   ]
  },
  {
   "cell_type": "code",
   "execution_count": 22,
   "id": "fa00e5e3",
   "metadata": {},
   "outputs": [
    {
     "data": {
      "image/png": "[encoded data removed]",
      "text/plain": [
       "<Figure size 1000x200 with 2 Axes>"
      ]
     },
     "metadata": {},
     "output_type": "display_data"
    }
   ],
   "source": [
    "plt.figure(figsize = (10, 2))\n",
    "\n",
    "plt.subplot(1, 3, 1)\n",
    "plt.title(\"housing data\")\n",
    "sns.heatmap(train.isnull())\n",
    "\n",
    "plt.show()"
   ]
  },
  {
   "cell_type": "code",
   "execution_count": 23,
   "id": "abea7d2a",
   "metadata": {},
   "outputs": [
    {
     "data": {
      "text/plain": [
       "<Axes: >"
      ]
     },
     "execution_count": 23,
     "metadata": {},
     "output_type": "execute_result"
    },
    {
     "data": {
      "image/png": "[encoded data removed]",
      "text/plain": [
       "<Figure size 300x200 with 2 Axes>"
      ]
     },
     "metadata": {},
     "output_type": "display_data"
    }
   ],
   "source": [
    "msno.matrix(df=housing_data, figsize=(3,2), color=(0,.3,.3))"
   ]
  },
  {
   "cell_type": "code",
   "execution_count": 24,
   "id": "f4bb037f",
   "metadata": {},
   "outputs": [
    {
     "name": "stdout",
     "output_type": "stream",
     "text": [
      "<class 'pandas.core.frame.DataFrame'>\n",
      "RangeIndex: 50000 entries, 0 to 49999\n",
      "Data columns (total 6 columns):\n",
      " #   Column        Non-Null Count  Dtype  \n",
      "---  ------        --------------  -----  \n",
      " 0   SquareFeet    50000 non-null  int64  \n",
      " 1   Bedrooms      50000 non-null  int64  \n",
      " 2   Bathrooms     50000 non-null  int64  \n",
      " 3   Neighborhood  50000 non-null  object \n",
      " 4   YearBuilt     50000 non-null  int64  \n",
      " 5   Price         50000 non-null  float64\n",
      "dtypes: float64(1), int64(4), object(1)\n",
      "memory usage: 2.3+ MB\n"
     ]
    },
    {
     "data": {
      "text/plain": [
       "None"
      ]
     },
     "metadata": {},
     "output_type": "display_data"
    }
   ],
   "source": [
    "display(housing_data.info())"
   ]
  },
  {
   "cell_type": "code",
   "execution_count": 25,
   "id": "4332f147",
   "metadata": {},
   "outputs": [
    {
     "data": {
      "image/png": "[encoded data removed]",
      "text/plain": [
       "<Figure size 640x480 with 1 Axes>"
      ]
     },
     "metadata": {},
     "output_type": "display_data"
    }
   ],
   "source": [
    "plt.subplot(1, 3, 1)\n",
    "sns.countplot(x = housing_data[\"Neighborhood\"])\n",
    "plt.xticks(rotation = 90);"
   ]
  },
  {
   "cell_type": "code",
   "execution_count": 26,
   "id": "17142150",
   "metadata": {},
   "outputs": [],
   "source": [
    "housing_data[\"Neighborhood\"] = housing_data[\"Neighborhood\"].replace({'Rural':1,'Urban':2,'Suburb':3})"
   ]
  },
  {
   "cell_type": "code",
   "execution_count": 27,
   "id": "46818271",
   "metadata": {
    "scrolled": true
   },
   "outputs": [
    {
     "data": {
      "text/html": [
       "<div>\n",
       "<style scoped>\n",
       "    .dataframe tbody tr th:only-of-type {\n",
       "        vertical-align: middle;\n",
       "    }\n",
       "\n",
       "    .dataframe tbody tr th {\n",
       "        vertical-align: top;\n",
       "    }\n",
       "\n",
       "    .dataframe thead th {\n",
       "        text-align: right;\n",
       "    }\n",
       "</style>\n",
       "<table border=\"1\" class=\"dataframe\">\n",
       "  <thead>\n",
       "    <tr style=\"text-align: right;\">\n",
       "      <th></th>\n",
       "      <th>SquareFeet</th>\n",
       "      <th>Bedrooms</th>\n",
       "      <th>Bathrooms</th>\n",
       "      <th>Neighborhood</th>\n",
       "      <th>YearBuilt</th>\n",
       "      <th>Price</th>\n",
       "    </tr>\n",
       "  </thead>\n",
       "  <tbody>\n",
       "    <tr>\n",
       "      <th>0</th>\n",
       "      <td>2126</td>\n",
       "      <td>4</td>\n",
       "      <td>1</td>\n",
       "      <td>1</td>\n",
       "      <td>1969</td>\n",
       "      <td>215355.283618</td>\n",
       "    </tr>\n",
       "    <tr>\n",
       "      <th>1</th>\n",
       "      <td>2459</td>\n",
       "      <td>3</td>\n",
       "      <td>2</td>\n",
       "      <td>1</td>\n",
       "      <td>1980</td>\n",
       "      <td>195014.221626</td>\n",
       "    </tr>\n",
       "    <tr>\n",
       "      <th>2</th>\n",
       "      <td>1860</td>\n",
       "      <td>2</td>\n",
       "      <td>1</td>\n",
       "      <td>3</td>\n",
       "      <td>1970</td>\n",
       "      <td>306891.012076</td>\n",
       "    </tr>\n",
       "    <tr>\n",
       "      <th>3</th>\n",
       "      <td>2294</td>\n",
       "      <td>2</td>\n",
       "      <td>1</td>\n",
       "      <td>2</td>\n",
       "      <td>1996</td>\n",
       "      <td>206786.787153</td>\n",
       "    </tr>\n",
       "    <tr>\n",
       "      <th>4</th>\n",
       "      <td>2130</td>\n",
       "      <td>5</td>\n",
       "      <td>2</td>\n",
       "      <td>3</td>\n",
       "      <td>2001</td>\n",
       "      <td>272436.239065</td>\n",
       "    </tr>\n",
       "    <tr>\n",
       "      <th>...</th>\n",
       "      <td>...</td>\n",
       "      <td>...</td>\n",
       "      <td>...</td>\n",
       "      <td>...</td>\n",
       "      <td>...</td>\n",
       "      <td>...</td>\n",
       "    </tr>\n",
       "    <tr>\n",
       "      <th>49995</th>\n",
       "      <td>1282</td>\n",
       "      <td>5</td>\n",
       "      <td>3</td>\n",
       "      <td>1</td>\n",
       "      <td>1975</td>\n",
       "      <td>100080.865895</td>\n",
       "    </tr>\n",
       "    <tr>\n",
       "      <th>49996</th>\n",
       "      <td>2854</td>\n",
       "      <td>2</td>\n",
       "      <td>2</td>\n",
       "      <td>3</td>\n",
       "      <td>1988</td>\n",
       "      <td>374507.656727</td>\n",
       "    </tr>\n",
       "    <tr>\n",
       "      <th>49997</th>\n",
       "      <td>2979</td>\n",
       "      <td>5</td>\n",
       "      <td>3</td>\n",
       "      <td>3</td>\n",
       "      <td>1962</td>\n",
       "      <td>384110.555590</td>\n",
       "    </tr>\n",
       "    <tr>\n",
       "      <th>49998</th>\n",
       "      <td>2596</td>\n",
       "      <td>5</td>\n",
       "      <td>2</td>\n",
       "      <td>1</td>\n",
       "      <td>1984</td>\n",
       "      <td>380512.685957</td>\n",
       "    </tr>\n",
       "    <tr>\n",
       "      <th>49999</th>\n",
       "      <td>1572</td>\n",
       "      <td>5</td>\n",
       "      <td>3</td>\n",
       "      <td>1</td>\n",
       "      <td>2011</td>\n",
       "      <td>221618.583218</td>\n",
       "    </tr>\n",
       "  </tbody>\n",
       "</table>\n",
       "<p>50000 rows × 6 columns</p>\n",
       "</div>"
      ],
      "text/plain": [
       "       SquareFeet  Bedrooms  Bathrooms  Neighborhood  YearBuilt          Price\n",
       "0            2126         4          1             1       1969  215355.283618\n",
       "1            2459         3          2             1       1980  195014.221626\n",
       "2            1860         2          1             3       1970  306891.012076\n",
       "3            2294         2          1             2       1996  206786.787153\n",
       "4            2130         5          2             3       2001  272436.239065\n",
       "...           ...       ...        ...           ...        ...            ...\n",
       "49995        1282         5          3             1       1975  100080.865895\n",
       "49996        2854         2          2             3       1988  374507.656727\n",
       "49997        2979         5          3             3       1962  384110.555590\n",
       "49998        2596         5          2             1       1984  380512.685957\n",
       "49999        1572         5          3             1       2011  221618.583218\n",
       "\n",
       "[50000 rows x 6 columns]"
      ]
     },
     "metadata": {},
     "output_type": "display_data"
    }
   ],
   "source": [
    "display(housing_data)"
   ]
  },
  {
   "cell_type": "code",
   "execution_count": 30,
   "id": "240600f0",
   "metadata": {},
   "outputs": [
    {
     "name": "stdout",
     "output_type": "stream",
     "text": [
      "Help on method _append in module pandas.core.frame:\n",
      "\n",
      "_append(other, ignore_index: 'bool' = False, verify_integrity: 'bool' = False, sort: 'bool' = False) -> 'DataFrame' method of pandas.core.frame.DataFrame instance\n",
      "\n"
     ]
    }
   ],
   "source": [
    "help(housing_data._append)"
   ]
  },
  {
   "cell_type": "code",
   "execution_count": 31,
   "id": "998eebb0",
   "metadata": {
    "scrolled": true
   },
   "outputs": [
    {
     "data": {
      "text/plain": [
       "['SquareFeet', 'Bedrooms', 'Bathrooms', 'Neighborhood', 'YearBuilt']"
      ]
     },
     "execution_count": 31,
     "metadata": {},
     "output_type": "execute_result"
    }
   ],
   "source": [
    "train_feature = housing_data.columns.drop('Price').tolist()\n",
    "train_feature"
   ]
  },
  {
   "cell_type": "code",
   "execution_count": 37,
   "id": "5c8d2cf6",
   "metadata": {},
   "outputs": [
    {
     "data": {
      "text/html": [
       "<style type=\"text/css\">\n",
       "#T_9f533_row0_col1 {\n",
       "  width: 10em;\n",
       "  background: linear-gradient(90deg, #3366CC 100.0%, transparent 100.0%);\n",
       "}\n",
       "#T_9f533_row0_col2 {\n",
       "  background-color: #4d004b;\n",
       "  color: #f1f1f1;\n",
       "}\n",
       "#T_9f533_row0_col5 {\n",
       "  background-color: #67000d;\n",
       "  color: #f1f1f1;\n",
       "}\n",
       "#T_9f533_row1_col1 {\n",
       "  width: 10em;\n",
       "  background: linear-gradient(90deg, #3366CC 0.2%, transparent 0.2%);\n",
       "}\n",
       "#T_9f533_row1_col2, #T_9f533_row2_col2, #T_9f533_row3_col2 {\n",
       "  background-color: #f7fcfd;\n",
       "  color: #000000;\n",
       "}\n",
       "#T_9f533_row1_col5, #T_9f533_row2_col5, #T_9f533_row3_col5 {\n",
       "  background-color: #fff5f0;\n",
       "  color: #000000;\n",
       "}\n",
       "#T_9f533_row2_col1, #T_9f533_row3_col1 {\n",
       "  width: 10em;\n",
       "  background: linear-gradient(90deg, #3366CC 0.1%, transparent 0.1%);\n",
       "}\n",
       "#T_9f533_row4_col1 {\n",
       "  width: 10em;\n",
       "  background: linear-gradient(90deg, #3366CC 99.0%, transparent 99.0%);\n",
       "}\n",
       "#T_9f533_row4_col2 {\n",
       "  background-color: #f1f8fb;\n",
       "  color: #000000;\n",
       "}\n",
       "#T_9f533_row4_col5 {\n",
       "  background-color: #6b010e;\n",
       "  color: #f1f1f1;\n",
       "}\n",
       "</style>\n",
       "<table id=\"T_9f533\">\n",
       "  <thead>\n",
       "    <tr>\n",
       "      <th class=\"blank level0\" >&nbsp;</th>\n",
       "      <th id=\"T_9f533_level0_col0\" class=\"col_heading level0 col0\" >count</th>\n",
       "      <th id=\"T_9f533_level0_col1\" class=\"col_heading level0 col1\" >mean</th>\n",
       "      <th id=\"T_9f533_level0_col2\" class=\"col_heading level0 col2\" >std</th>\n",
       "      <th id=\"T_9f533_level0_col3\" class=\"col_heading level0 col3\" >min</th>\n",
       "      <th id=\"T_9f533_level0_col4\" class=\"col_heading level0 col4\" >25%</th>\n",
       "      <th id=\"T_9f533_level0_col5\" class=\"col_heading level0 col5\" >50%</th>\n",
       "      <th id=\"T_9f533_level0_col6\" class=\"col_heading level0 col6\" >75%</th>\n",
       "      <th id=\"T_9f533_level0_col7\" class=\"col_heading level0 col7\" >max</th>\n",
       "    </tr>\n",
       "  </thead>\n",
       "  <tbody>\n",
       "    <tr>\n",
       "      <th id=\"T_9f533_level0_row0\" class=\"row_heading level0 row0\" >SquareFeet</th>\n",
       "      <td id=\"T_9f533_row0_col0\" class=\"data row0 col0\" >50000.000000</td>\n",
       "      <td id=\"T_9f533_row0_col1\" class=\"data row0 col1\" >2006.374680</td>\n",
       "      <td id=\"T_9f533_row0_col2\" class=\"data row0 col2\" >575.513241</td>\n",
       "      <td id=\"T_9f533_row0_col3\" class=\"data row0 col3\" >1000.000000</td>\n",
       "      <td id=\"T_9f533_row0_col4\" class=\"data row0 col4\" >1513.000000</td>\n",
       "      <td id=\"T_9f533_row0_col5\" class=\"data row0 col5\" >2007.000000</td>\n",
       "      <td id=\"T_9f533_row0_col6\" class=\"data row0 col6\" >2506.000000</td>\n",
       "      <td id=\"T_9f533_row0_col7\" class=\"data row0 col7\" >2999.000000</td>\n",
       "    </tr>\n",
       "    <tr>\n",
       "      <th id=\"T_9f533_level0_row1\" class=\"row_heading level0 row1\" >Bedrooms</th>\n",
       "      <td id=\"T_9f533_row1_col0\" class=\"data row1 col0\" >50000.000000</td>\n",
       "      <td id=\"T_9f533_row1_col1\" class=\"data row1 col1\" >3.498700</td>\n",
       "      <td id=\"T_9f533_row1_col2\" class=\"data row1 col2\" >1.116326</td>\n",
       "      <td id=\"T_9f533_row1_col3\" class=\"data row1 col3\" >2.000000</td>\n",
       "      <td id=\"T_9f533_row1_col4\" class=\"data row1 col4\" >3.000000</td>\n",
       "      <td id=\"T_9f533_row1_col5\" class=\"data row1 col5\" >3.000000</td>\n",
       "      <td id=\"T_9f533_row1_col6\" class=\"data row1 col6\" >4.000000</td>\n",
       "      <td id=\"T_9f533_row1_col7\" class=\"data row1 col7\" >5.000000</td>\n",
       "    </tr>\n",
       "    <tr>\n",
       "      <th id=\"T_9f533_level0_row2\" class=\"row_heading level0 row2\" >Bathrooms</th>\n",
       "      <td id=\"T_9f533_row2_col0\" class=\"data row2 col0\" >50000.000000</td>\n",
       "      <td id=\"T_9f533_row2_col1\" class=\"data row2 col1\" >1.995420</td>\n",
       "      <td id=\"T_9f533_row2_col2\" class=\"data row2 col2\" >0.815851</td>\n",
       "      <td id=\"T_9f533_row2_col3\" class=\"data row2 col3\" >1.000000</td>\n",
       "      <td id=\"T_9f533_row2_col4\" class=\"data row2 col4\" >1.000000</td>\n",
       "      <td id=\"T_9f533_row2_col5\" class=\"data row2 col5\" >2.000000</td>\n",
       "      <td id=\"T_9f533_row2_col6\" class=\"data row2 col6\" >3.000000</td>\n",
       "      <td id=\"T_9f533_row2_col7\" class=\"data row2 col7\" >3.000000</td>\n",
       "    </tr>\n",
       "    <tr>\n",
       "      <th id=\"T_9f533_level0_row3\" class=\"row_heading level0 row3\" >Neighborhood</th>\n",
       "      <td id=\"T_9f533_row3_col0\" class=\"data row3 col0\" >50000.000000</td>\n",
       "      <td id=\"T_9f533_row3_col1\" class=\"data row3 col1\" >2.000900</td>\n",
       "      <td id=\"T_9f533_row3_col2\" class=\"data row3 col2\" >0.817284</td>\n",
       "      <td id=\"T_9f533_row3_col3\" class=\"data row3 col3\" >1.000000</td>\n",
       "      <td id=\"T_9f533_row3_col4\" class=\"data row3 col4\" >1.000000</td>\n",
       "      <td id=\"T_9f533_row3_col5\" class=\"data row3 col5\" >2.000000</td>\n",
       "      <td id=\"T_9f533_row3_col6\" class=\"data row3 col6\" >3.000000</td>\n",
       "      <td id=\"T_9f533_row3_col7\" class=\"data row3 col7\" >3.000000</td>\n",
       "    </tr>\n",
       "    <tr>\n",
       "      <th id=\"T_9f533_level0_row4\" class=\"row_heading level0 row4\" >YearBuilt</th>\n",
       "      <td id=\"T_9f533_row4_col0\" class=\"data row4 col0\" >50000.000000</td>\n",
       "      <td id=\"T_9f533_row4_col1\" class=\"data row4 col1\" >1985.404420</td>\n",
       "      <td id=\"T_9f533_row4_col2\" class=\"data row4 col2\" >20.719377</td>\n",
       "      <td id=\"T_9f533_row4_col3\" class=\"data row4 col3\" >1950.000000</td>\n",
       "      <td id=\"T_9f533_row4_col4\" class=\"data row4 col4\" >1967.000000</td>\n",
       "      <td id=\"T_9f533_row4_col5\" class=\"data row4 col5\" >1985.000000</td>\n",
       "      <td id=\"T_9f533_row4_col6\" class=\"data row4 col6\" >2003.000000</td>\n",
       "      <td id=\"T_9f533_row4_col7\" class=\"data row4 col7\" >2021.000000</td>\n",
       "    </tr>\n",
       "  </tbody>\n",
       "</table>\n"
      ],
      "text/plain": [
       "<pandas.io.formats.style.Styler at 0x2b1287c8cd0>"
      ]
     },
     "execution_count": 37,
     "metadata": {},
     "output_type": "execute_result"
    }
   ],
   "source": [
    "housing_data[train_feature].describe().T\\\n",
    "        .style.bar(subset=['mean'], color=px.colors.qualitative.G10[0])\\\n",
    "        .background_gradient(subset=['std'], cmap='BuPu')\\\n",
    "        .background_gradient(subset=['50%'], cmap='Reds')"
   ]
  },
  {
   "cell_type": "code",
   "execution_count": 42,
   "id": "5353c3ec",
   "metadata": {},
   "outputs": [
    {
     "data": {
      "image/png": "[encoded data removed]",
      "text/plain": [
       "<Figure size 1500x300 with 1 Axes>"
      ]
     },
     "metadata": {},
     "output_type": "display_data"
    },
    {
     "data": {
      "image/png": "[encoded data removed]",
      "text/plain": [
       "<Figure size 1500x300 with 1 Axes>"
      ]
     },
     "metadata": {},
     "output_type": "display_data"
    },
    {
     "data": {
      "image/png": "[encoded data removed]",
      "text/plain": [
       "<Figure size 1500x300 with 1 Axes>"
      ]
     },
     "metadata": {},
     "output_type": "display_data"
    },
    {
     "data": {
      "image/png": "[encoded data removed]",
      "text/plain": [
       "<Figure size 1500x300 with 1 Axes>"
      ]
     },
     "metadata": {},
     "output_type": "display_data"
    },
    {
     "data": {
      "image/png": "[encoded data removed]",
      "text/plain": [
       "<Figure size 1500x300 with 1 Axes>"
      ]
     },
     "metadata": {},
     "output_type": "display_data"
    }
   ],
   "source": [
    "for feat in train_feature:\n",
    "    plt.figure(figsize=(15,3))\n",
    "    ax1 = plt.subplot(1,2,1)\n",
    "    housing_data[feat].plot(kind='hist', bins=50, color='blue')\n",
    "    plt.title(feat)\n",
    "    plt.show()"
   ]
  },
  {
   "cell_type": "code",
   "execution_count": 47,
   "id": "d53e9aad",
   "metadata": {},
   "outputs": [
    {
     "name": "stdout",
     "output_type": "stream",
     "text": [
      "Column: SquareFeet\n",
      "Skewness: -0.011161817099369262\n",
      "Kurtosis: -1.189925973482508\n",
      "\n",
      "Column: Bedrooms\n",
      "Skewness: 0.004640350313677791\n",
      "Kurtosis: -1.356056808946854\n",
      "\n",
      "Column: Bathrooms\n",
      "Skewness: 0.008407664728520576\n",
      "Kurtosis: -1.497576657664007\n",
      "\n",
      "Column: Neighborhood\n",
      "Skewness: -0.001655027801734351\n",
      "Kurtosis: -1.502886180102843\n",
      "\n",
      "Column: YearBuilt\n",
      "Skewness: 0.00555654660638406\n",
      "Kurtosis: -1.1968387057465915\n",
      "\n"
     ]
    }
   ],
   "source": [
    "# Calculate skewness and kurtosis for each column\n",
    "skewness = housing_data.skew()\n",
    "kurtosis = housing_data.kurt()\n",
    "\n",
    "# Printing the results\n",
    "for column in housing_data.columns[:-1]:\n",
    "    print(f\"Column: {column}\")\n",
    "    print(f\"Skewness: {skewness[column]}\")\n",
    "    print(f\"Kurtosis: {kurtosis[column]}\\n\")"
   ]
  },
  {
   "cell_type": "code",
   "execution_count": 48,
   "id": "958b8479",
   "metadata": {},
   "outputs": [
    {
     "data": {
      "text/html": [
       "<div>\n",
       "<style scoped>\n",
       "    .dataframe tbody tr th:only-of-type {\n",
       "        vertical-align: middle;\n",
       "    }\n",
       "\n",
       "    .dataframe tbody tr th {\n",
       "        vertical-align: top;\n",
       "    }\n",
       "\n",
       "    .dataframe thead th {\n",
       "        text-align: right;\n",
       "    }\n",
       "</style>\n",
       "<table border=\"1\" class=\"dataframe\">\n",
       "  <thead>\n",
       "    <tr style=\"text-align: right;\">\n",
       "      <th></th>\n",
       "      <th>SquareFeet</th>\n",
       "      <th>Bedrooms</th>\n",
       "      <th>Bathrooms</th>\n",
       "      <th>Neighborhood</th>\n",
       "      <th>YearBuilt</th>\n",
       "      <th>Price</th>\n",
       "    </tr>\n",
       "  </thead>\n",
       "  <tbody>\n",
       "    <tr>\n",
       "      <th>count</th>\n",
       "      <td>40000.000000</td>\n",
       "      <td>40000.000000</td>\n",
       "      <td>40000.00000</td>\n",
       "      <td>40000.000000</td>\n",
       "      <td>40000.000000</td>\n",
       "      <td>40000.000000</td>\n",
       "    </tr>\n",
       "    <tr>\n",
       "      <th>mean</th>\n",
       "      <td>2008.862325</td>\n",
       "      <td>3.500150</td>\n",
       "      <td>1.99340</td>\n",
       "      <td>2.000075</td>\n",
       "      <td>1985.432125</td>\n",
       "      <td>225025.122634</td>\n",
       "    </tr>\n",
       "    <tr>\n",
       "      <th>std</th>\n",
       "      <td>575.082009</td>\n",
       "      <td>1.115496</td>\n",
       "      <td>0.81647</td>\n",
       "      <td>0.816696</td>\n",
       "      <td>20.701102</td>\n",
       "      <td>76056.770365</td>\n",
       "    </tr>\n",
       "    <tr>\n",
       "      <th>min</th>\n",
       "      <td>1000.000000</td>\n",
       "      <td>2.000000</td>\n",
       "      <td>1.00000</td>\n",
       "      <td>1.000000</td>\n",
       "      <td>1950.000000</td>\n",
       "      <td>-36588.165397</td>\n",
       "    </tr>\n",
       "    <tr>\n",
       "      <th>25%</th>\n",
       "      <td>1516.750000</td>\n",
       "      <td>3.000000</td>\n",
       "      <td>1.00000</td>\n",
       "      <td>1.000000</td>\n",
       "      <td>1968.000000</td>\n",
       "      <td>170327.631505</td>\n",
       "    </tr>\n",
       "    <tr>\n",
       "      <th>50%</th>\n",
       "      <td>2012.000000</td>\n",
       "      <td>3.000000</td>\n",
       "      <td>2.00000</td>\n",
       "      <td>2.000000</td>\n",
       "      <td>1985.000000</td>\n",
       "      <td>225038.726320</td>\n",
       "    </tr>\n",
       "    <tr>\n",
       "      <th>75%</th>\n",
       "      <td>2507.000000</td>\n",
       "      <td>4.000000</td>\n",
       "      <td>3.00000</td>\n",
       "      <td>3.000000</td>\n",
       "      <td>2003.000000</td>\n",
       "      <td>279479.899331</td>\n",
       "    </tr>\n",
       "    <tr>\n",
       "      <th>max</th>\n",
       "      <td>2999.000000</td>\n",
       "      <td>5.000000</td>\n",
       "      <td>3.00000</td>\n",
       "      <td>3.000000</td>\n",
       "      <td>2021.000000</td>\n",
       "      <td>492195.259972</td>\n",
       "    </tr>\n",
       "  </tbody>\n",
       "</table>\n",
       "</div>"
      ],
      "text/plain": [
       "         SquareFeet      Bedrooms    Bathrooms  Neighborhood     YearBuilt  \\\n",
       "count  40000.000000  40000.000000  40000.00000  40000.000000  40000.000000   \n",
       "mean    2008.862325      3.500150      1.99340      2.000075   1985.432125   \n",
       "std      575.082009      1.115496      0.81647      0.816696     20.701102   \n",
       "min     1000.000000      2.000000      1.00000      1.000000   1950.000000   \n",
       "25%     1516.750000      3.000000      1.00000      1.000000   1968.000000   \n",
       "50%     2012.000000      3.000000      2.00000      2.000000   1985.000000   \n",
       "75%     2507.000000      4.000000      3.00000      3.000000   2003.000000   \n",
       "max     2999.000000      5.000000      3.00000      3.000000   2021.000000   \n",
       "\n",
       "               Price  \n",
       "count   40000.000000  \n",
       "mean   225025.122634  \n",
       "std     76056.770365  \n",
       "min    -36588.165397  \n",
       "25%    170327.631505  \n",
       "50%    225038.726320  \n",
       "75%    279479.899331  \n",
       "max    492195.259972  "
      ]
     },
     "metadata": {},
     "output_type": "display_data"
    },
    {
     "data": {
      "text/html": [
       "<div>\n",
       "<style scoped>\n",
       "    .dataframe tbody tr th:only-of-type {\n",
       "        vertical-align: middle;\n",
       "    }\n",
       "\n",
       "    .dataframe tbody tr th {\n",
       "        vertical-align: top;\n",
       "    }\n",
       "\n",
       "    .dataframe thead th {\n",
       "        text-align: right;\n",
       "    }\n",
       "</style>\n",
       "<table border=\"1\" class=\"dataframe\">\n",
       "  <thead>\n",
       "    <tr style=\"text-align: right;\">\n",
       "      <th></th>\n",
       "      <th>SquareFeet</th>\n",
       "      <th>Bedrooms</th>\n",
       "      <th>Bathrooms</th>\n",
       "      <th>Neighborhood</th>\n",
       "      <th>YearBuilt</th>\n",
       "      <th>Price</th>\n",
       "    </tr>\n",
       "  </thead>\n",
       "  <tbody>\n",
       "    <tr>\n",
       "      <th>count</th>\n",
       "      <td>10000.000000</td>\n",
       "      <td>10000.000000</td>\n",
       "      <td>10000.00000</td>\n",
       "      <td>10000.000000</td>\n",
       "      <td>10000.000000</td>\n",
       "      <td>10000.000000</td>\n",
       "    </tr>\n",
       "    <tr>\n",
       "      <th>mean</th>\n",
       "      <td>1996.424100</td>\n",
       "      <td>3.492900</td>\n",
       "      <td>2.00350</td>\n",
       "      <td>2.004200</td>\n",
       "      <td>1985.293600</td>\n",
       "      <td>224036.135220</td>\n",
       "    </tr>\n",
       "    <tr>\n",
       "      <th>std</th>\n",
       "      <td>577.156548</td>\n",
       "      <td>1.119676</td>\n",
       "      <td>0.81336</td>\n",
       "      <td>0.819664</td>\n",
       "      <td>20.792985</td>\n",
       "      <td>76479.887053</td>\n",
       "    </tr>\n",
       "    <tr>\n",
       "      <th>min</th>\n",
       "      <td>1000.000000</td>\n",
       "      <td>2.000000</td>\n",
       "      <td>1.00000</td>\n",
       "      <td>1.000000</td>\n",
       "      <td>1950.000000</td>\n",
       "      <td>154.779120</td>\n",
       "    </tr>\n",
       "    <tr>\n",
       "      <th>25%</th>\n",
       "      <td>1498.750000</td>\n",
       "      <td>2.000000</td>\n",
       "      <td>1.00000</td>\n",
       "      <td>1.000000</td>\n",
       "      <td>1967.000000</td>\n",
       "      <td>168068.663346</td>\n",
       "    </tr>\n",
       "    <tr>\n",
       "      <th>50%</th>\n",
       "      <td>1989.000000</td>\n",
       "      <td>3.000000</td>\n",
       "      <td>2.00000</td>\n",
       "      <td>2.000000</td>\n",
       "      <td>1985.000000</td>\n",
       "      <td>225127.998713</td>\n",
       "    </tr>\n",
       "    <tr>\n",
       "      <th>75%</th>\n",
       "      <td>2499.000000</td>\n",
       "      <td>5.000000</td>\n",
       "      <td>3.00000</td>\n",
       "      <td>3.000000</td>\n",
       "      <td>2003.000000</td>\n",
       "      <td>278980.764718</td>\n",
       "    </tr>\n",
       "    <tr>\n",
       "      <th>max</th>\n",
       "      <td>2999.000000</td>\n",
       "      <td>5.000000</td>\n",
       "      <td>3.00000</td>\n",
       "      <td>3.000000</td>\n",
       "      <td>2021.000000</td>\n",
       "      <td>482577.163405</td>\n",
       "    </tr>\n",
       "  </tbody>\n",
       "</table>\n",
       "</div>"
      ],
      "text/plain": [
       "         SquareFeet      Bedrooms    Bathrooms  Neighborhood     YearBuilt  \\\n",
       "count  10000.000000  10000.000000  10000.00000  10000.000000  10000.000000   \n",
       "mean    1996.424100      3.492900      2.00350      2.004200   1985.293600   \n",
       "std      577.156548      1.119676      0.81336      0.819664     20.792985   \n",
       "min     1000.000000      2.000000      1.00000      1.000000   1950.000000   \n",
       "25%     1498.750000      2.000000      1.00000      1.000000   1967.000000   \n",
       "50%     1989.000000      3.000000      2.00000      2.000000   1985.000000   \n",
       "75%     2499.000000      5.000000      3.00000      3.000000   2003.000000   \n",
       "max     2999.000000      5.000000      3.00000      3.000000   2021.000000   \n",
       "\n",
       "               Price  \n",
       "count   10000.000000  \n",
       "mean   224036.135220  \n",
       "std     76479.887053  \n",
       "min       154.779120  \n",
       "25%    168068.663346  \n",
       "50%    225127.998713  \n",
       "75%    278980.764718  \n",
       "max    482577.163405  "
      ]
     },
     "metadata": {},
     "output_type": "display_data"
    }
   ],
   "source": [
    "#Split the dataset into train and test\n",
    "train = pd.DataFrame(housing_data).head(40000)\n",
    "test = pd.DataFrame(housing_data).tail(10000)\n",
    "test =  test.reset_index(drop=True)\n",
    "display(train.describe())\n",
    "display(test.describe())"
   ]
  },
  {
   "cell_type": "markdown",
   "id": "d974fe4e",
   "metadata": {},
   "source": [
    "## Feature Selection"
   ]
  },
  {
   "cell_type": "code",
   "execution_count": null,
   "id": "a55ef70e",
   "metadata": {},
   "outputs": [],
   "source": []
  }
 ],
 "metadata": {
  "kernelspec": {
   "display_name": "housing_price_prediction",
   "language": "python",
   "name": "housing_price_prediction"
  },
  "language_info": {
   "codemirror_mode": {
    "name": "ipython",
    "version": 3
   },
   "file_extension": ".py",
   "mimetype": "text/x-python",
   "name": "python",
   "nbconvert_exporter": "python",
   "pygments_lexer": "ipython3",
   "version": "3.11.5"
  }
 },
 "nbformat": 4,
 "nbformat_minor": 5
}
